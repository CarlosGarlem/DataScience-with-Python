{
 "cells": [
  {
   "cell_type": "markdown",
   "id": "broad-maximum",
   "metadata": {},
   "source": [
    "## Tarea#2"
   ]
  },
  {
   "cell_type": "markdown",
   "id": "female-anderson",
   "metadata": {},
   "source": [
    "Carlos García - 21000475"
   ]
  },
  {
   "cell_type": "markdown",
   "id": "lucky-equity",
   "metadata": {},
   "source": [
    "### ¿Qué es git?\n",
    "Git es un manejador de versiones distribuido que permite controlar los cambios en el contenido de un proyecto, llevando registro del historial de cambios en el mismo y permitiendo la colaboración a través de la utilización de múltiples repositorios locales que se sincronizan apartir de un repositorio remoto (e.g. Github)\n",
    "\n",
    "Git maneja la misma estructura de directorios y archivos almacenados en un ordenador, con la diferencia que en Git los archivos son conocidos como \"blobs\" y los directorios como \"trees\".\n",
    "\n",
    "Para llevar control del contenido en el repositorio así como los cambios realizados sobre el mismo, Git hace uso de Grafos Acíclicos Dirigidos (DAG por sus siglas en ingles). La implementación de estos grafos permite la generación de múltiples snapshots referenciando a un mismo snapshot o bien un punto en la historia referenciado a más de un snapshot. \n",
    "\n",
    "Empleando la terminología de Git los puntos en la historia o snapshots, son conocidos como \"commits\" y se identifican a través de códigos hash SHA-1. De esta forma cada uno de los commits en el historial de proyecto presenta un conjunto de metadatos que permiten identificarlo, conocer al autor, comentarios, etc. "
   ]
  },
  {
   "cell_type": "markdown",
   "id": "productive-examination",
   "metadata": {},
   "source": [
    "####  Ejemplo DAG a utilizar\n",
    "<img src=\"imgs/DAG.png\">"
   ]
  },
  {
   "cell_type": "markdown",
   "id": "direct-excuse",
   "metadata": {},
   "source": [
    "### Iniciando un proyecto\n",
    "\n",
    "\n",
    "Comandos a aplicar\n",
    "- git init"
   ]
  },
  {
   "cell_type": "markdown",
   "id": "lined-plain",
   "metadata": {},
   "source": [
    "Para inicializar un proyecto local se debe utilizar la sentencia **git init**\n",
    "\n",
    "En el siguiente ejemplo se comprueba que el directorio actual no es un repositorio local, por lo cual se inicializará y se comprobará el estado del repositorio"
   ]
  },
  {
   "cell_type": "code",
   "execution_count": 1,
   "id": "detailed-bolivia",
   "metadata": {},
   "outputs": [
    {
     "data": {
      "text/plain": [
       "['fatal: not a git repository (or any of the parent directories): .git']"
      ]
     },
     "execution_count": 1,
     "metadata": {},
     "output_type": "execute_result"
    }
   ],
   "source": [
    "%sx git status"
   ]
  },
  {
   "cell_type": "code",
   "execution_count": 2,
   "id": "entire-vacation",
   "metadata": {},
   "outputs": [
    {
     "data": {
      "text/plain": [
       "['Initialized empty Git repository in D:/cgarcia/repos/GitDemo/.git/']"
      ]
     },
     "execution_count": 2,
     "metadata": {},
     "output_type": "execute_result"
    }
   ],
   "source": [
    "%sx git init"
   ]
  },
  {
   "cell_type": "code",
   "execution_count": 3,
   "id": "difficult-operations",
   "metadata": {},
   "outputs": [
    {
     "data": {
      "text/plain": [
       "['On branch master',\n",
       " '',\n",
       " 'No commits yet',\n",
       " '',\n",
       " 'Untracked files:',\n",
       " '  (use \"git add <file>...\" to include in what will be committed)',\n",
       " '',\n",
       " '\\t.ipynb_checkpoints/',\n",
       " '\\tEjemplo.txt',\n",
       " '\\tGit notebook.ipynb',\n",
       " '',\n",
       " 'nothing added to commit but untracked files present (use \"git add\" to track)']"
      ]
     },
     "execution_count": 3,
     "metadata": {},
     "output_type": "execute_result"
    }
   ],
   "source": [
    "%sx git status"
   ]
  },
  {
   "cell_type": "markdown",
   "id": "critical-drilling",
   "metadata": {},
   "source": [
    "### Commits and staging\n",
    "\n",
    "Comandos a aplicar\n",
    "- git add\n",
    "- git commit"
   ]
  },
  {
   "cell_type": "markdown",
   "id": "annual-language",
   "metadata": {},
   "source": [
    "Los commits son snapshots del proyecto. Para crearlos en necesario emplear el comando **git commit**. Previo a realizar el commit Git maneja un área de staging, la cual nos permite seleccionar el contenido que deseamos guardar en el commit a crear. Para añadir contenido al área de staging se hace uso del comando \"git add\"\n",
    "\n",
    "Es importante mencionar que los comandos de Git pueden verse enriquecidos utilizando un conjunto de \"flags\" las cuales permiten realizar configuraciones o agregar determinada información al momento de ejecutar el comando. Un ejemlo de ello es el flag \"**-m**\" que permite agregar comentarios que aporten mayor información al historial del proyecto, al momento de realizar un commit."
   ]
  },
  {
   "cell_type": "markdown",
   "id": "eastern-mattress",
   "metadata": {},
   "source": [
    "Para ejemplificar el avance del proyecto se creará un pequeño archivo de texto denominado Ejemplo.txt el cual contendrá la implementación de una funcionalidad representada como una línea nueva en el documento"
   ]
  },
  {
   "cell_type": "code",
   "execution_count": 4,
   "id": "catholic-maker",
   "metadata": {},
   "outputs": [
    {
     "data": {
      "text/plain": [
       "[]"
      ]
     },
     "execution_count": 4,
     "metadata": {},
     "output_type": "execute_result"
    }
   ],
   "source": [
    "%sx echo \"Function A\" > Ejemplo.txt"
   ]
  },
  {
   "cell_type": "code",
   "execution_count": 5,
   "id": "concerned-pathology",
   "metadata": {},
   "outputs": [
    {
     "data": {
      "text/plain": [
       "[]"
      ]
     },
     "execution_count": 5,
     "metadata": {},
     "output_type": "execute_result"
    }
   ],
   "source": [
    "%sx git add \"Ejemplo.txt\""
   ]
  },
  {
   "cell_type": "code",
   "execution_count": 6,
   "id": "bottom-methodology",
   "metadata": {},
   "outputs": [
    {
     "data": {
      "text/plain": [
       "['On branch master',\n",
       " '',\n",
       " 'No commits yet',\n",
       " '',\n",
       " 'Changes to be committed:',\n",
       " '  (use \"git rm --cached <file>...\" to unstage)',\n",
       " '',\n",
       " '\\tnew file:   Ejemplo.txt',\n",
       " '',\n",
       " 'Untracked files:',\n",
       " '  (use \"git add <file>...\" to include in what will be committed)',\n",
       " '',\n",
       " '\\t.ipynb_checkpoints/',\n",
       " '\\tGit notebook.ipynb',\n",
       " '']"
      ]
     },
     "execution_count": 6,
     "metadata": {},
     "output_type": "execute_result"
    }
   ],
   "source": [
    "%sx git status"
   ]
  },
  {
   "cell_type": "markdown",
   "id": "dirty-reverse",
   "metadata": {},
   "source": [
    "A diferencia de los status reportados anteriormente es posible observar que los archivos no se encuentran en estado \"untracked\". Ahora se despliega todos los archivos que formaran parte del snapshot"
   ]
  },
  {
   "cell_type": "code",
   "execution_count": 7,
   "id": "responsible-fireplace",
   "metadata": {},
   "outputs": [
    {
     "data": {
      "text/plain": [
       "['[master (root-commit) b25ddc0] Adding Ejemplo.txt',\n",
       " ' 1 file changed, 1 insertion(+)',\n",
       " ' create mode 100644 Ejemplo.txt']"
      ]
     },
     "execution_count": 7,
     "metadata": {},
     "output_type": "execute_result"
    }
   ],
   "source": [
    "%sx git commit -m \"Adding Ejemplo.txt\""
   ]
  },
  {
   "cell_type": "markdown",
   "id": "controlling-tampa",
   "metadata": {},
   "source": [
    "### Status del proyecto\n",
    "\n",
    "Comandos a utilizar\n",
    "- git status\n",
    "- git log"
   ]
  },
  {
   "cell_type": "markdown",
   "id": "purple-estonia",
   "metadata": {},
   "source": [
    "El comando **git status** nos permite observar el estado actual del proyecto en el punto en el que estamos posicionados, sin embargo para comprender a mayor detalle el historial de proyecto es posible visualizar el grafo asociado a dicho historial, esto a través del comando **git log**"
   ]
  },
  {
   "cell_type": "code",
   "execution_count": 8,
   "id": "ethical-metadata",
   "metadata": {},
   "outputs": [
    {
     "data": {
      "text/plain": [
       "['* commit b25ddc0cd7704302076ff8643f399c0ca01813f3',\n",
       " '  Author: Carlos Garcia <carlosgarlem@gmail.com>',\n",
       " '  Date:   Sat Feb 6 17:22:41 2021 -0600',\n",
       " '  ',\n",
       " '      Adding Ejemplo.txt']"
      ]
     },
     "execution_count": 8,
     "metadata": {},
     "output_type": "execute_result"
    }
   ],
   "source": [
    "%sx git log --graph --all"
   ]
  },
  {
   "cell_type": "markdown",
   "id": "rental-niagara",
   "metadata": {},
   "source": [
    "A través del historial del proyecto es posible ver que contamos con un commit el cual se identifica con el SHA-1 \"b25dd\", y contiene metadatos como el nombre del autor, la fecha y el comentario asociado al momento de realizar el commit"
   ]
  },
  {
   "cell_type": "code",
   "execution_count": 9,
   "id": "filled-pearl",
   "metadata": {},
   "outputs": [
    {
     "data": {
      "text/plain": [
       "[]"
      ]
     },
     "execution_count": 9,
     "metadata": {},
     "output_type": "execute_result"
    }
   ],
   "source": [
    "# Intentional typo to fix in branches part\n",
    "%sx echo \"Funtion B\" >> Ejemplo.txt"
   ]
  },
  {
   "cell_type": "code",
   "execution_count": 10,
   "id": "clinical-target",
   "metadata": {},
   "outputs": [
    {
     "data": {
      "text/plain": [
       "['[master 5c5fffe] Adding functionality B', ' 1 file changed, 1 insertion(+)']"
      ]
     },
     "execution_count": 10,
     "metadata": {},
     "output_type": "execute_result"
    }
   ],
   "source": [
    "%sx git add \"Ejemplo.txt\"\n",
    "%sx git commit -m \"Adding functionality B\""
   ]
  },
  {
   "cell_type": "code",
   "execution_count": 11,
   "id": "continuing-retail",
   "metadata": {},
   "outputs": [
    {
     "data": {
      "text/plain": [
       "['* commit 5c5fffe4fa5cbbf0c45f74ffaf67105740283109',\n",
       " '| Author: Carlos Garcia <carlosgarlem@gmail.com>',\n",
       " '| Date:   Sat Feb 6 17:22:46 2021 -0600',\n",
       " '| ',\n",
       " '|     Adding functionality B',\n",
       " '| ',\n",
       " '* commit b25ddc0cd7704302076ff8643f399c0ca01813f3',\n",
       " '  Author: Carlos Garcia <carlosgarlem@gmail.com>',\n",
       " '  Date:   Sat Feb 6 17:22:41 2021 -0600',\n",
       " '  ',\n",
       " '      Adding Ejemplo.txt']"
      ]
     },
     "execution_count": 11,
     "metadata": {},
     "output_type": "execute_result"
    }
   ],
   "source": [
    "%sx git log --graph --all"
   ]
  },
  {
   "cell_type": "markdown",
   "id": "helpful-bedroom",
   "metadata": {},
   "source": [
    "#### Branches\n",
    "\n",
    "Comandos a utilizar\n",
    "- git branch\n",
    "- git checkout"
   ]
  },
  {
   "cell_type": "markdown",
   "id": "devoted-stanford",
   "metadata": {},
   "source": [
    "La utilización de branches permite el trabajo en paralelo, así como la separación de funcionalidades, correción de errores, etc. En este caso se creará una branch denominada \"BugFix\" para arreglar el typo causado en la commit anterior. "
   ]
  },
  {
   "cell_type": "code",
   "execution_count": 12,
   "id": "european-pontiac",
   "metadata": {},
   "outputs": [
    {
     "data": {
      "text/plain": [
       "['  BugFix', '* master']"
      ]
     },
     "execution_count": 12,
     "metadata": {},
     "output_type": "execute_result"
    }
   ],
   "source": [
    "%sx git branch \"BugFix\"\n",
    "%sx git branch"
   ]
  },
  {
   "cell_type": "code",
   "execution_count": 13,
   "id": "varied-windsor",
   "metadata": {},
   "outputs": [
    {
     "data": {
      "text/plain": [
       "[\"Switched to branch 'BugFix'\"]"
      ]
     },
     "execution_count": 13,
     "metadata": {},
     "output_type": "execute_result"
    }
   ],
   "source": [
    "%sx git checkout \"BugFix\""
   ]
  },
  {
   "cell_type": "code",
   "execution_count": 14,
   "id": "strategic-globe",
   "metadata": {},
   "outputs": [
    {
     "data": {
      "text/plain": [
       "[]"
      ]
     },
     "execution_count": 14,
     "metadata": {},
     "output_type": "execute_result"
    }
   ],
   "source": [
    "#Abrimos el editor de preferencia y modificamos la linea para corregir el bug (en este caso particular el editor es vscode)\n",
    "%sx code \"Ejemplo.txt\""
   ]
  },
  {
   "cell_type": "markdown",
   "id": "overall-better",
   "metadata": {},
   "source": [
    "##### Arreglamos la linea con el bug\n",
    "<img src=\"imgs/FixBug.png\">"
   ]
  },
  {
   "cell_type": "code",
   "execution_count": 15,
   "id": "particular-collect",
   "metadata": {},
   "outputs": [
    {
     "data": {
      "text/plain": [
       "['On branch BugFix',\n",
       " 'Changes not staged for commit:',\n",
       " '  (use \"git add <file>...\" to update what will be committed)',\n",
       " '  (use \"git checkout -- <file>...\" to discard changes in working directory)',\n",
       " '',\n",
       " '\\tmodified:   Ejemplo.txt',\n",
       " '',\n",
       " 'Untracked files:',\n",
       " '  (use \"git add <file>...\" to include in what will be committed)',\n",
       " '',\n",
       " '\\t.ipynb_checkpoints/',\n",
       " '\\tGit notebook.ipynb',\n",
       " '',\n",
       " 'no changes added to commit (use \"git add\" and/or \"git commit -a\")']"
      ]
     },
     "execution_count": 15,
     "metadata": {},
     "output_type": "execute_result"
    }
   ],
   "source": [
    "#Una vez modificado el archivo evaluamos los cambios\n",
    "%sx git status"
   ]
  },
  {
   "cell_type": "code",
   "execution_count": 16,
   "id": "signed-theta",
   "metadata": {},
   "outputs": [
    {
     "data": {
      "text/plain": [
       "['[BugFix 441579e] Fix bug on functionality B',\n",
       " ' 1 file changed, 1 insertion(+), 1 deletion(-)']"
      ]
     },
     "execution_count": 16,
     "metadata": {},
     "output_type": "execute_result"
    }
   ],
   "source": [
    "%sx git add \"Ejemplo.txt\"\n",
    "%sx git commit -m \"Fix bug on functionality B\""
   ]
  },
  {
   "cell_type": "markdown",
   "id": "soviet-brazilian",
   "metadata": {},
   "source": [
    "#### Merging\n",
    "\n",
    "Comandos a utilizar\n",
    "- git merge"
   ]
  },
  {
   "cell_type": "markdown",
   "id": "academic-shock",
   "metadata": {},
   "source": [
    "Una vez realizado los cambios es una rama de trabajo es posible integrarlos a una de las ramas de trabajo utilizadas en el proyecto haciendo uso del comando **git merge**"
   ]
  },
  {
   "cell_type": "markdown",
   "id": "labeled-barbados",
   "metadata": {},
   "source": [
    "Al realizar un merge existen dos escenarios. \n",
    "1. La rama sobre la cual se tomó el snapshot no ha cambiado permitiendo realizar un merge de tipo \"fast-forward\"\n",
    "2. La ramas sobre las cuales se trabaja han cambiado, generado \"merge conflicts\". En estos casos Git permite que el usuario integre los cambios presentes en las ramas previo a realizar el merge"
   ]
  },
  {
   "cell_type": "code",
   "execution_count": 17,
   "id": "purple-burner",
   "metadata": {},
   "outputs": [
    {
     "data": {
      "text/plain": [
       "['[master e3b18c1] Adding functionality C', ' 1 file changed, 1 insertion(+)']"
      ]
     },
     "execution_count": 17,
     "metadata": {},
     "output_type": "execute_result"
    }
   ],
   "source": [
    "#Agregaremos una nueva funcionalidad al archivo actual en la rama principal\n",
    "%sx git checkout master\n",
    "%sx echo \"Function C\" >> \"Ejemplo.txt\"\n",
    "%sx git add \"Ejemplo.txt\"\n",
    "%sx git commit -m \"Adding functionality C\""
   ]
  },
  {
   "cell_type": "code",
   "execution_count": 18,
   "id": "distant-range",
   "metadata": {},
   "outputs": [
    {
     "data": {
      "text/plain": [
       "['* e3b18c1 Adding functionality C',\n",
       " '| * 441579e Fix bug on functionality B',\n",
       " '|/  ',\n",
       " '* 5c5fffe Adding functionality B',\n",
       " '* b25ddc0 Adding Ejemplo.txt']"
      ]
     },
     "execution_count": 18,
     "metadata": {},
     "output_type": "execute_result"
    }
   ],
   "source": [
    "%sx git log --graph --all --oneline"
   ]
  },
  {
   "cell_type": "markdown",
   "id": "hungry-archives",
   "metadata": {},
   "source": [
    "En la grafica mostrada es posible identificar el commit realizado en la rama \"BugFix\" a través del commit **441579e** el cual se separa de la rama principal, por lo cual será necesario integrarlo"
   ]
  },
  {
   "cell_type": "code",
   "execution_count": 19,
   "id": "angry-pursuit",
   "metadata": {},
   "outputs": [
    {
     "data": {
      "text/plain": [
       "['Auto-merging Ejemplo.txt',\n",
       " 'CONFLICT (content): Merge conflict in Ejemplo.txt',\n",
       " 'Automatic merge failed; fix conflicts and then commit the result.']"
      ]
     },
     "execution_count": 19,
     "metadata": {},
     "output_type": "execute_result"
    }
   ],
   "source": [
    "%sx git checkout \"master\"\n",
    "%sx git merge \"BugFix\""
   ]
  },
  {
   "cell_type": "code",
   "execution_count": 20,
   "id": "chubby-victorian",
   "metadata": {},
   "outputs": [
    {
     "data": {
      "text/plain": [
       "[]"
      ]
     },
     "execution_count": 20,
     "metadata": {},
     "output_type": "execute_result"
    }
   ],
   "source": [
    "#Fix the merge problem in an editor\n",
    "%sx code \"Ejemplo.txt\""
   ]
  },
  {
   "cell_type": "markdown",
   "id": "graduate-tucson",
   "metadata": {},
   "source": [
    "##### Arreglamos el merge conflict\n",
    "<img src=\"imgs/FixMerge.png\">"
   ]
  },
  {
   "cell_type": "code",
   "execution_count": 21,
   "id": "color-upgrade",
   "metadata": {},
   "outputs": [
    {
     "data": {
      "text/plain": [
       "[\"[master dc58fc0] Merge branch 'BugFix'\"]"
      ]
     },
     "execution_count": 21,
     "metadata": {},
     "output_type": "execute_result"
    }
   ],
   "source": [
    "%sx git add \"Ejemplo.txt\"\n",
    "%sx git commit"
   ]
  },
  {
   "cell_type": "code",
   "execution_count": 22,
   "id": "dated-squad",
   "metadata": {},
   "outputs": [
    {
     "data": {
      "text/plain": [
       "[\"*   dc58fc0 Merge branch 'BugFix'\",\n",
       " '|\\\\  ',\n",
       " '| * 441579e Fix bug on functionality B',\n",
       " '* | e3b18c1 Adding functionality C',\n",
       " '|/  ',\n",
       " '* 5c5fffe Adding functionality B',\n",
       " '* b25ddc0 Adding Ejemplo.txt']"
      ]
     },
     "execution_count": 22,
     "metadata": {},
     "output_type": "execute_result"
    }
   ],
   "source": [
    "%sx git log --graph --all --oneline"
   ]
  },
  {
   "cell_type": "markdown",
   "id": "quiet-opportunity",
   "metadata": {},
   "source": [
    "#### Remote repos\n",
    "\n",
    "Comandos a utilizar\n",
    "- git remote\n",
    "- git clone\n",
    "- git fetch\n",
    "- git pull\n",
    "- git push"
   ]
  },
  {
   "cell_type": "markdown",
   "id": "mexican-market",
   "metadata": {},
   "source": [
    "Finalmente es importante sincronizar el repositorio local contra un repositorio remoto, el cual permitira la colaboración entre los integrantes del equipo, además de servir como respaldo al contar con proveedores como Github que permite alojar nuestros repositorios en la nube. \n",
    "\n",
    "En esta parte agregaremos un origen que servira para llevar tracking del repositorio remoto, luego enviaremos el contenido trabajado en esta práctica a dicho repositorio"
   ]
  },
  {
   "cell_type": "code",
   "execution_count": 24,
   "id": "racial-palmer",
   "metadata": {},
   "outputs": [
    {
     "data": {
      "text/plain": [
       "[]"
      ]
     },
     "execution_count": 24,
     "metadata": {},
     "output_type": "execute_result"
    }
   ],
   "source": [
    "%sx git remote add origin https://github.com/CarlosGarlem/GitDemo.git"
   ]
  },
  {
   "cell_type": "code",
   "execution_count": 25,
   "id": "architectural-convention",
   "metadata": {},
   "outputs": [
    {
     "data": {
      "text/plain": [
       "['To https://github.com/CarlosGarlem/GitDemo.git',\n",
       " ' * [new branch]      master -> master']"
      ]
     },
     "execution_count": 25,
     "metadata": {},
     "output_type": "execute_result"
    }
   ],
   "source": [
    "%sx git push origin master"
   ]
  },
  {
   "cell_type": "markdown",
   "id": "charged-french",
   "metadata": {},
   "source": [
    "Los comandos no aplicados en esta lección pero mencionados para la sincronización entre el repositorio local y el remoto se describen a continuación:\n",
    "- **git clone**. En caso de iniciar un proyecto a partir del repositorio remoto, este comando permite clonar el contenido hacia un repositorio local\n",
    "- **git fetch**. Permite actualizar el origen del repositorio local, sin embargo no integra los cambios hasta que se realice un merge\n",
    "- **git pull**. Integra las funcionalidades de git fetch y git merge"
   ]
  },
  {
   "cell_type": "markdown",
   "id": "canadian-mississippi",
   "metadata": {},
   "source": [
    "### Conclusiones\n",
    "\n",
    "Como se ha podido demostrar Git es una herramienta que permite llevar un historial de cambios y através de esto nos permite:\n",
    "- Realizar modificaciones de forma paralela empleando branches, así como integrar los cambios realizados por medio de comandos merge\n",
    "- Centralizar la información en un repositorio remoto empleado como fuente de verdad para la sincronización de los equipos trabajando en el proyecto\n",
    "- Conocer el historial del proyecto y facilitar la auditoría de cambios, así como revertir o arreglar problemas causados a lo largo del proyecto\n",
    "\n"
   ]
  }
 ],
 "metadata": {
  "kernelspec": {
   "display_name": "Python 3",
   "language": "python",
   "name": "python3"
  },
  "language_info": {
   "codemirror_mode": {
    "name": "ipython",
    "version": 3
   },
   "file_extension": ".py",
   "mimetype": "text/x-python",
   "name": "python",
   "nbconvert_exporter": "python",
   "pygments_lexer": "ipython3",
   "version": "3.9.1"
  }
 },
 "nbformat": 4,
 "nbformat_minor": 5
}
