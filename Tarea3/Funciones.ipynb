{
 "cells": [
  {
   "cell_type": "markdown",
   "id": "olive-trout",
   "metadata": {},
   "source": [
    "### Tarea#3\n",
    "##### Carlos García - 21000475"
   ]
  },
  {
   "cell_type": "markdown",
   "id": "false-river",
   "metadata": {},
   "source": [
    "#### Funciones"
   ]
  },
  {
   "cell_type": "markdown",
   "id": "meaning-assist",
   "metadata": {},
   "source": [
    "Una función es una bloque de código que se identifica con un nombre y agrupa una cierta lógica de programación. La utilización de funciones en código permite reutilizar dicha lógica a lo largo del programa; además según la definición de la función la parametrización de esta permite que una misma lógica se adapte a distintos valores del parámetro. "
   ]
  },
  {
   "cell_type": "code",
   "execution_count": 1,
   "id": "headed-center",
   "metadata": {},
   "outputs": [],
   "source": [
    "def miFuncion(x,y):\n",
    "    return x + y"
   ]
  },
  {
   "cell_type": "code",
   "execution_count": 2,
   "id": "secret-search",
   "metadata": {},
   "outputs": [
    {
     "name": "stdout",
     "output_type": "stream",
     "text": [
      "Llamada 1: 5\n",
      "Llamada 2: 12\n"
     ]
    }
   ],
   "source": [
    "print(\"Llamada 1:\", miFuncion(2,3))\n",
    "z = 'cualquier otra sentencia'\n",
    "print(\"Llamada 2:\", miFuncion(10,2))"
   ]
  },
  {
   "cell_type": "markdown",
   "id": "configured-webmaster",
   "metadata": {},
   "source": [
    "Como se muestra anteriormente, una función que ha sido previamente definida puede ser llamada en distintas partes del código con distintos valores de parámetros, permitiendo ejecutar la lógica definida a través de la sentencias que contiene. "
   ]
  },
  {
   "cell_type": "markdown",
   "id": "affected-ticket",
   "metadata": {},
   "source": [
    "#### Parámetros posicionales"
   ]
  },
  {
   "cell_type": "markdown",
   "id": "sharing-champagne",
   "metadata": {},
   "source": [
    "Como se mencionaba anteriormente una función puede conformarse por un conjunto de parámetros que permiten aplicar la lógica definida a distintos valores. El acceso a estos parámetros puede darse a través de dos formas:\n",
    "- posicional\n",
    "- por nombre"
   ]
  },
  {
   "cell_type": "markdown",
   "id": "statutory-costa",
   "metadata": {},
   "source": [
    "En el caso de los parámetros posicionales, se cumple que la llamada de la función define los argumentos a utilizar en el mismo orden que el definido en los parámetros de la función."
   ]
  },
  {
   "cell_type": "code",
   "execution_count": 5,
   "id": "short-mainland",
   "metadata": {},
   "outputs": [],
   "source": [
    "def operaciones(x, y, operacion):\n",
    "    operacion = operacion.lower()\n",
    "    if operacion == 'suma':\n",
    "        return x + y\n",
    "    elif operacion == 'resta':\n",
    "        return x - y\n",
    "    else:\n",
    "        return 'operacion no valida'"
   ]
  },
  {
   "cell_type": "code",
   "execution_count": 6,
   "id": "spiritual-silicon",
   "metadata": {},
   "outputs": [
    {
     "name": "stdout",
     "output_type": "stream",
     "text": [
      "En orden:  2\n",
      "En desorden:  -2\n"
     ]
    }
   ],
   "source": [
    "minuendo = 5\n",
    "sustraendo = 3\n",
    "print('En orden: ', operaciones(minuendo, sustraendo, 'resta'))\n",
    "print('En desorden: ', operaciones(sustraendo, minuendo, 'resta'))"
   ]
  },
  {
   "cell_type": "markdown",
   "id": "minor-survival",
   "metadata": {},
   "source": [
    "En la celda anterior se han definido las variables minuendo y sustraendo. Dado que la estructura de una resta es la de minuendo - sustraendo = respuesta, en la primera llamada la función devuelve el valor esperado \"2\" al cumplir con el orden de esta estructura. Sin embargo para la segunda llamada el orden de los argumentos ha sido invertido tal que ahora se espera una operacion dada por sustraendo - minuendo, por lo cual el resultado es \"-2\""
   ]
  },
  {
   "cell_type": "markdown",
   "id": "confused-fireplace",
   "metadata": {},
   "source": [
    "Otra aspecto a considerar en el funcionamiento de parámetros por orden es la necesidad de definir todos los parámetros previos poder acceder al parámetro deseado. En el siguiente ejemplo se demuestra como a pesar de tener varios parámetros con valores por defecto, es necesario que especifiquemos todos los argumentos para poder acceder al parámetro deseado. "
   ]
  },
  {
   "cell_type": "code",
   "execution_count": 7,
   "id": "median-vegetation",
   "metadata": {},
   "outputs": [],
   "source": [
    "def operaciones2(a, b, c = 0, d = 0, operacion = 'suma'):\n",
    "    operacion = operacion.lower()\n",
    "    if operacion == 'suma':\n",
    "        return a + b + c + d\n",
    "    elif operacion == 'resta':\n",
    "        return a - b - c - d\n",
    "    else:\n",
    "        return 'operacion no valida'"
   ]
  },
  {
   "cell_type": "code",
   "execution_count": 8,
   "id": "least-prescription",
   "metadata": {},
   "outputs": [
    {
     "data": {
      "text/plain": [
       "-1"
      ]
     },
     "execution_count": 8,
     "metadata": {},
     "output_type": "execute_result"
    }
   ],
   "source": [
    "operaciones2(1, 2, 0, 0, 'resta')"
   ]
  },
  {
   "cell_type": "markdown",
   "id": "rubber-involvement",
   "metadata": {},
   "source": [
    "#### Parámetros Nombrados"
   ]
  },
  {
   "cell_type": "markdown",
   "id": "retired-montreal",
   "metadata": {},
   "source": [
    "Por su parte los parámetros nombrados o por nombre solventan el problema presentado anteriormente. Pues de esta forma los argumentos enviados durante la llamada de una función no deben cumplir con el orden establecido por los parámetros de la función, en su lugar deben enviarse como una combinación \"nombre_param = valor\". \n",
    "De esta forma es posible evitar listar parámetros que no serán utilizados en nuestra llamada a la función, o bien cambiar el orden según conveniencia "
   ]
  },
  {
   "cell_type": "code",
   "execution_count": 9,
   "id": "annual-fundamentals",
   "metadata": {},
   "outputs": [
    {
     "data": {
      "text/plain": [
       "-1"
      ]
     },
     "execution_count": 9,
     "metadata": {},
     "output_type": "execute_result"
    }
   ],
   "source": [
    "operaciones2(b = 2, a = 1, operacion = 'resta')"
   ]
  },
  {
   "cell_type": "markdown",
   "id": "motivated-corps",
   "metadata": {},
   "source": [
    "#### Retorno de múltiples valores"
   ]
  },
  {
   "cell_type": "markdown",
   "id": "auburn-divorce",
   "metadata": {},
   "source": [
    "En otros lenguajes de programación es necesario utilizar una estructura de datos que agrupe los múltiples valores que se desean retornar en una función en caso de retornar más de un valor. Por su parte Python hace lo mismo, pero lo hace de una forma transparente para el usuario, agrupando los múltiples valores a retornar en una tupla. Como parte de esto es posible recibir los valores retornados como una tupla o bien aplicar el \"unpacking\" que permite asignar los elementos de la tupla a las variables definidas. "
   ]
  },
  {
   "cell_type": "code",
   "execution_count": 10,
   "id": "incorporate-shore",
   "metadata": {},
   "outputs": [],
   "source": [
    "def getValoresMultiples():\n",
    "    a = 1\n",
    "    b = 'texto'\n",
    "    c = [1,2,3]\n",
    "    d = True\n",
    "    return a, b, c, d"
   ]
  },
  {
   "cell_type": "code",
   "execution_count": 11,
   "id": "fifth-commodity",
   "metadata": {},
   "outputs": [
    {
     "name": "stdout",
     "output_type": "stream",
     "text": [
      "(1, 'texto', [1, 2, 3], True)\n"
     ]
    },
    {
     "data": {
      "text/plain": [
       "tuple"
      ]
     },
     "execution_count": 11,
     "metadata": {},
     "output_type": "execute_result"
    }
   ],
   "source": [
    "print(getValoresMultiples())\n",
    "type(getValoresMultiples())"
   ]
  },
  {
   "cell_type": "code",
   "execution_count": 12,
   "id": "arabic-watson",
   "metadata": {},
   "outputs": [
    {
     "name": "stdout",
     "output_type": "stream",
     "text": [
      "1\n",
      "texto\n",
      "[1, 2, 3]\n",
      "True\n"
     ]
    }
   ],
   "source": [
    "num, text, lista, boolean = getValoresMultiples()\n",
    "print(num)\n",
    "print(text)\n",
    "print(lista)\n",
    "print(boolean)"
   ]
  },
  {
   "cell_type": "markdown",
   "id": "equipped-modeling",
   "metadata": {},
   "source": [
    "#### Funciones como objetos y parámetros"
   ]
  },
  {
   "cell_type": "markdown",
   "id": "critical-novel",
   "metadata": {},
   "source": [
    "En Python todo es un objeto, por lo cual las funciones tambien lo son. De esta forma es posible manipular las funciones de la misma forma que todos los demás objetos en Python, teniendo estas un tipo, permitiendo su asignación a variables, y permitiendo pasarlas como argumentos hacia otras funciones. De esta forma podemos \"anidar\" una función dentro de otra, y al ser parametrizable cambiar el comportamiento de la función según lo que se necesite aplicar. Las funciones de Python que reciben funciones como parámetros son conocidas como funciones de orden mayor."
   ]
  },
  {
   "cell_type": "code",
   "execution_count": 13,
   "id": "interested-cleaners",
   "metadata": {},
   "outputs": [],
   "source": [
    "def getDouble(x):\n",
    "    return x*2\n",
    "\n",
    "def getTriple(x):\n",
    "    return x*3"
   ]
  },
  {
   "cell_type": "code",
   "execution_count": 14,
   "id": "velvet-hygiene",
   "metadata": {},
   "outputs": [
    {
     "name": "stdout",
     "output_type": "stream",
     "text": [
      "<function getDouble at 0x000001C3060D0700>\n",
      "<class 'function'>\n",
      "2\n"
     ]
    }
   ],
   "source": [
    "doble = getDouble\n",
    "print(doble)\n",
    "print(type(doble))\n",
    "print(doble(1))"
   ]
  },
  {
   "cell_type": "code",
   "execution_count": 15,
   "id": "canadian-valley",
   "metadata": {},
   "outputs": [],
   "source": [
    "def aplicarFuncion(val, funcion):\n",
    "    return funcion(val)"
   ]
  },
  {
   "cell_type": "code",
   "execution_count": 16,
   "id": "tropical-newspaper",
   "metadata": {},
   "outputs": [
    {
     "name": "stdout",
     "output_type": "stream",
     "text": [
      "Aplicando funcion getDouble: 10\n",
      "Aplicando funcion getTriple: 15\n"
     ]
    }
   ],
   "source": [
    "print(\"Aplicando funcion getDouble:\", aplicarFuncion(5, doble))\n",
    "print(\"Aplicando funcion getTriple:\", aplicarFuncion(5, getTriple))"
   ]
  },
  {
   "cell_type": "markdown",
   "id": "reported-expert",
   "metadata": {},
   "source": [
    "#### Funciones Lambda"
   ]
  },
  {
   "cell_type": "markdown",
   "id": "julian-visitor",
   "metadata": {},
   "source": [
    "Las funciones lambda son conocidas como funciones anónimas, esto debido a que no necesitan tener un nombre asignado a diferencias de las funciones comunmente usadas. Su estructura se basa en \"lambda parameters: expression\" permitiendo la utilización de múltiples parámetros pero una única expresión. "
   ]
  },
  {
   "cell_type": "code",
   "execution_count": 17,
   "id": "suburban-oklahoma",
   "metadata": {},
   "outputs": [
    {
     "data": {
      "text/plain": [
       "3"
      ]
     },
     "execution_count": 17,
     "metadata": {},
     "output_type": "execute_result"
    }
   ],
   "source": [
    "(lambda a, b: a + b)(1,2)"
   ]
  },
  {
   "cell_type": "code",
   "execution_count": 18,
   "id": "reliable-standard",
   "metadata": {},
   "outputs": [
    {
     "name": "stdout",
     "output_type": "stream",
     "text": [
      "3\n"
     ]
    }
   ],
   "source": [
    "varFunc = lambda a, b: a + b\n",
    "print(varFunc(1,2))"
   ]
  },
  {
   "cell_type": "markdown",
   "id": "crucial-cleveland",
   "metadata": {},
   "source": [
    "Las funciones lambda puede ser utilizadas dentro de otras funciones, dotando a la primera funcion de la posiblidad de generar múltiples funciones. Sin necesidad de definir varias veces una función con una estructura y lógica similar."
   ]
  },
  {
   "cell_type": "code",
   "execution_count": 19,
   "id": "thirty-driving",
   "metadata": {},
   "outputs": [],
   "source": [
    "def funcGenerator(n):\n",
    "    return lambda x: x**n"
   ]
  },
  {
   "cell_type": "code",
   "execution_count": 20,
   "id": "funded-mediterranean",
   "metadata": {},
   "outputs": [
    {
     "name": "stdout",
     "output_type": "stream",
     "text": [
      "25\n",
      "125\n"
     ]
    }
   ],
   "source": [
    "square = funcGenerator(2)\n",
    "cube = funcGenerator(3)\n",
    "\n",
    "print(square(5))\n",
    "print(cube(5))"
   ]
  },
  {
   "cell_type": "markdown",
   "id": "endless-corrections",
   "metadata": {},
   "source": [
    "#### Conclusiones"
   ]
  },
  {
   "cell_type": "markdown",
   "id": "restricted-silicon",
   "metadata": {},
   "source": [
    "- Las funciones nos permiten agrupar segmentos de código permitiendo reutilizar nuestra lógica en múltiples partes\n",
    "- Los parámetros dotan de cierta flexibilidad a las funciones, el usar parametros por nombre nos permite cambiar el orden de los argumentos\n",
    "- En Python todo es un objeto incluyendo las funciones\n",
    "- Utilizar funciones labmda o funciones anónimas simplifica la definción de algunas funciones y pueden utilizarse en conjunto con otras funciones"
   ]
  }
 ],
 "metadata": {
  "kernelspec": {
   "display_name": "Python 3",
   "language": "python",
   "name": "python3"
  },
  "language_info": {
   "codemirror_mode": {
    "name": "ipython",
    "version": 3
   },
   "file_extension": ".py",
   "mimetype": "text/x-python",
   "name": "python",
   "nbconvert_exporter": "python",
   "pygments_lexer": "ipython3",
   "version": "3.9.1"
  }
 },
 "nbformat": 4,
 "nbformat_minor": 5
}
