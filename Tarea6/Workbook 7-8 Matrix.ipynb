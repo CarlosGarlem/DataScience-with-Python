{
 "cells": [
  {
   "cell_type": "markdown",
   "id": "purple-infrared",
   "metadata": {},
   "source": [
    "### Tarea6\n",
    "#### Carlos Garcia - 21000475"
   ]
  },
  {
   "cell_type": "code",
   "execution_count": 3,
   "id": "plastic-procedure",
   "metadata": {},
   "outputs": [],
   "source": [
    "import numpy as np"
   ]
  },
  {
   "cell_type": "markdown",
   "id": "adverse-illness",
   "metadata": {},
   "source": [
    "\n",
    "### **Ejercicio**: \n",
    "Investigar y ejemplificar diferencias entre np.array y np.matrix"
   ]
  },
  {
   "cell_type": "markdown",
   "id": "brutal-lawrence",
   "metadata": {},
   "source": [
    "#### Matrix vs Ndarray\n",
    "- **np.matrix**. Las matrices estan definidas para ser estrictamente de 2 dimensiones, son una subclase de los ndarray\n",
    "- **np.array**. Los ndarray son la estructura base de numpy y permiten declarar estructuras de datos de un único tipo de dato, de N dimensiones. \n",
    "\n",
    "\n",
    "En general los arreglos ndarray pueden realizar las mismas operaciones que una matriz, sin embargo los matrices tiene ventajas en simplicidad de algunas operaciones ya definidas. \n"
   ]
  },
  {
   "cell_type": "markdown",
   "id": "beneficial-contamination",
   "metadata": {},
   "source": [
    "#### Definicion de objetos"
   ]
  },
  {
   "cell_type": "markdown",
   "id": "underlying-married",
   "metadata": {},
   "source": [
    "##### Matrices"
   ]
  },
  {
   "cell_type": "code",
   "execution_count": 90,
   "id": "designing-hardwood",
   "metadata": {},
   "outputs": [
    {
     "name": "stdout",
     "output_type": "stream",
     "text": [
      "[[5 1]\n",
      " [6 8]]\n",
      "\n",
      " [[1 2]\n",
      " [3 4]]\n",
      "\n",
      " [[1. 0. 0.]\n",
      " [0. 1. 0.]\n",
      " [0. 0. 1.]]\n",
      "\n",
      " [[1. 0. 0.]\n",
      " [0. 1. 0.]]\n"
     ]
    }
   ],
   "source": [
    "#Las matrices pueden ser generadas a partir de listas o bien a partir de strings\n",
    "print(np.matrix('5 1; 6 8'))\n",
    "print('\\n', np.matrix([[1,2], [3,4]]))\n",
    "\n",
    "#Algunas funciones especificas para crear matrices son:\n",
    "print('\\n', np.identity(3))\n",
    "print('\\n', np.eye(2,3))\n",
    "\n",
    "#np.matrix([[[2]]]) # como se mencionaba esto no es posible dado que presenta tres dimensiones"
   ]
  },
  {
   "cell_type": "markdown",
   "id": "developed-steal",
   "metadata": {},
   "source": [
    "##### Arreglos "
   ]
  },
  {
   "cell_type": "code",
   "execution_count": 91,
   "id": "material-miniature",
   "metadata": {},
   "outputs": [
    {
     "name": "stdout",
     "output_type": "stream",
     "text": [
      "[[5 1]\n",
      " [6 8]]\n",
      "\n",
      " [[[2]]]\n",
      "\n",
      " 5 1; 6 8\n",
      "\n",
      " [1 3 5 7 9]\n",
      "\n",
      " [ 1.    3.25  5.5   7.75 10.  ]\n"
     ]
    }
   ],
   "source": [
    "#Los arreglos solo pueden ser creados en base a estructaras de datos y no strings\n",
    "print(np.array([[5,1], [6,8]]))\n",
    "print('\\n', np.array([[[2]]])) #un ndarray puede tener N-dimensiones\n",
    "print('\\n', np.array('5 1; 6 8')) #un string sera considerado como un solo elemento\n",
    "\n",
    "#Algunas funcione especificas para crear arreglos son:\n",
    "print('\\n', np.arange(1, 10, 2))\n",
    "print('\\n', np.linspace(1, 10, 5))"
   ]
  },
  {
   "cell_type": "markdown",
   "id": "environmental-production",
   "metadata": {},
   "source": [
    "#### Operaciones\n",
    "Trabajar con matrices permite la utilización del operador * para realizar multiplicaciones. De la misma manera matriz ** 2 generara la multiplicacion matricial entre mat_A * mat_A. Por su parte el operador * para los ndarray realiza una multiplicacion de elemento a elemento (producto Hadamard), por lo cual es necesario especificar el metodo np.matmul() para realizar la multiplicacion."
   ]
  },
  {
   "cell_type": "code",
   "execution_count": 95,
   "id": "alpine-administration",
   "metadata": {},
   "outputs": [
    {
     "name": "stdout",
     "output_type": "stream",
     "text": [
      "Matrices--------\n",
      "a. Multiplicacion matricial A * B:\n",
      " [[ 8 14]\n",
      " [30 44]]\n",
      "\n",
      "b. Potenciacion al cuadrado o A * A:\n",
      " [[31 13]\n",
      " [78 70]]\n",
      "\n",
      "Arreglos--------\n",
      "a. Producto Hadamard A * B:\n",
      " [[ 5  2]\n",
      " [18 32]]\n",
      "\n",
      "b. Potenciacion elementwise A ** 2:\n",
      " [[25  1]\n",
      " [36 64]]\n",
      "\n",
      "Multiplicacion de matrices con ndarray\n",
      "\n",
      "a. Multiplicacion matricial A * B:\n",
      " [[ 8 14]\n",
      " [30 44]]\n",
      "\n",
      "b. Potenciacion elementwise A ** 2:\n",
      " [[31 13]\n",
      " [78 70]]\n"
     ]
    }
   ],
   "source": [
    "#Matrices\n",
    "matA = np.matrix([[5,1], [6,8]])\n",
    "matB = np.matrix([[1,2], [3,4]])\n",
    "\n",
    "print('Matrices--------')\n",
    "print('a. Multiplicacion matricial A * B:\\n', matA * matB)\n",
    "print('\\nb. Potenciacion al cuadrado o A * A:\\n', matA ** 2)\n",
    "\n",
    "#Arreglos\n",
    "arrayA = np.array([[5,1], [6,8]])\n",
    "arrayB = np.array([[1,2], [3,4]])\n",
    "\n",
    "print('\\nArreglos--------')\n",
    "print('a. Producto Hadamard A * B:\\n', arrayA * arrayB)\n",
    "print('\\nb. Potenciacion elementwise A ** 2:\\n', arrayA ** 2)\n",
    "\n",
    "print('\\nMultiplicacion de matrices con ndarray')\n",
    "print('\\na. Multiplicacion matricial A * B:\\n', np.matmul(arrayA, arrayB))\n",
    "print('\\nb. Potenciacion elementwise A ** 2:\\n', np.matmul(arrayA, arrayA))\n"
   ]
  },
  {
   "cell_type": "markdown",
   "id": "normal-search",
   "metadata": {},
   "source": [
    "#### Atributos\n",
    "Tanto las matrices como los ndarray pueden transponerse utilizando **.T**. Sin embargo solo las matrices presentan la opciones para la matriz conjugada **.H** y la matriz inversa **.I**"
   ]
  },
  {
   "cell_type": "code",
   "execution_count": 97,
   "id": "overhead-diesel",
   "metadata": {},
   "outputs": [
    {
     "name": "stdout",
     "output_type": "stream",
     "text": [
      "Matriz\n",
      " [[1 2]\n",
      " [3 4]\n",
      " [5 6]]\n",
      "\n",
      "Matriz transpuesta\n",
      " [[1 3 5]\n",
      " [2 4 6]]\n",
      "\n",
      "Matriz transpuesta conjugada\n",
      " [[1 3 5]\n",
      " [2 4 6]]\n",
      "\n",
      "Matriz ineversa\n",
      " [[-1.33333333 -0.33333333  0.66666667]\n",
      " [ 1.08333333  0.33333333 -0.41666667]]\n"
     ]
    }
   ],
   "source": [
    "matA = np.matrix([[1, 2], [3, 4], [5, 6]])\n",
    "print('Matriz\\n', matA)\n",
    "print('\\nMatriz transpuesta\\n', matA.T)\n",
    "print('\\nMatriz transpuesta conjugada\\n', matA.H)\n",
    "print('\\nMatriz ineversa\\n', matA.I)"
   ]
  },
  {
   "cell_type": "markdown",
   "id": "signal-meditation",
   "metadata": {},
   "source": [
    "#### **Ejercicio aplicado en DS**\n",
    "Se tiene una red neuronal sencilla(y simplificada) como la de la siguiente imagen:\n",
    "\n",
    "<img src=\"https://www.oreilly.com/library/view/practical-convolutional-neural/9781788392303/assets/246151fb-7893-448d-b9bb-7a87b387a24b.png\">\n",
    "\n",
    "Donde:\n",
    "* INPUT LAYER: un vector X de tamaño = 2 que representa los datos de entrada\n",
    "* HIDDEN_LAYER :capa oculta con 2 neuronas definidas por los vectores:\n",
    "    * HL1 = [0.25,0.37]\n",
    "    * HL2 = [-8,14]\n",
    "* OUTPUT_LAYER = capa de salida definida por el vector [4,9]\n",
    "\n",
    "Crear una funcion neural_network(X) para calcular:\n",
    "* Calcule la salida de cada neurona en la capa intermedia aplicada a la capa de entrada.\n",
    "* Use el resultado del paso anterior como entrada para la neurona en la capa de salida\n",
    "\n",
    "Utilizando multiplicación de matrices se debe calcular para cada fila de la matriz de entrada X el valor de las neuronas de la capa intermedia, esto producirá una nueva matriz con el mismo número de filas que X y 2 columnas(1 para cada neurona) , a  los valores de esta matriz se les debe aplicar la función \"sigmoid\"(descrita a continuación) para limitarlos al intervalo de 0 a 1, esto produce una matriz del mismo tamaño pero con valores entre 0 a 1, esta matriz se multiplica matricialmente por la matriz que representa los pesos de la capa de salida  y este proceso produce un nuevo tensor al cual se debe aplicar nuevamente la función sigmoid. El resultado debe ser un tensor con el mismo número de filas que la matriz X y una sola columna(una predicción para cada fila de X.\n",
    "\n",
    "<img src=\"https://cdn-images-1.medium.com/max/1600/1*Xu7B5y9gp0iL5ooBj7LtWw.png\">"
   ]
  },
  {
   "cell_type": "code",
   "execution_count": 4,
   "id": "cosmetic-treatment",
   "metadata": {},
   "outputs": [],
   "source": [
    "def sigmoid(x): #convertir los valores de x al rango de 0 a 1\n",
    "    \n",
    "    return 1/(1+np.exp(-x))"
   ]
  },
  {
   "cell_type": "code",
   "execution_count": 6,
   "id": "adapted-mathematics",
   "metadata": {},
   "outputs": [
    {
     "name": "stdout",
     "output_type": "stream",
     "text": [
      "(2, 1)\n",
      "[[0.99995577]\n",
      " [0.99999332]]\n"
     ]
    }
   ],
   "source": [
    "H1_W = np.array([[0.25,-8],\n",
    "                 [0.37,14]])\n",
    "\n",
    "OL_W = np.array([[4],[9]])\n",
    "\n",
    "X =  np.array([[0.1,0.2],\n",
    "               [1,2]])\n",
    "\n",
    "H1 = np.matmul(X,H1_W)\n",
    "H1 = sigmoid(H1)  # funcion de activacion: convertir a valores en el intervalo de 0 a 1\n",
    "OL = np.matmul(H1,OL_W)\n",
    "OL = sigmoid(OL)  # funcion de activacion: convertir a valores en el intervalo de 0 a 1\n",
    "\n",
    "\n",
    "print(OL)"
   ]
  },
  {
   "cell_type": "markdown",
   "id": "super-circuit",
   "metadata": {},
   "source": [
    "### Ejercicio \n",
    "\n",
    "Implementar en una funcion neural_network(X) la red neuronal definida por la siguiente arquitectura:\n",
    "\n",
    "<img src=\"http://i.imgur.com/UNlffE1.png\">\n",
    "\n",
    "Podemos validar si fue correctamente implementada si usamos como entrada el vector x=[1,1] . Debemos obtener el resultado mostrado en la imagen.\n",
    "\n",
    "Una vez tenemos la implementacion correcta, cambiar la funcion de activacion de la capa de salida por la funcion de activacion ReLu(https://en.wikipedia.org/wiki/Rectifier_(neural_networks)):\n",
    "\n",
    "<img src=\"https://cdn-images-1.medium.com/max/1600/1*DfMRHwxY1gyyDmrIAd-gjQ.png\">\n",
    "\n",
    "Luego evaluar la red neuronal sobre la matriz de datos X(de manera vectorizada):"
   ]
  },
  {
   "cell_type": "code",
   "execution_count": 33,
   "id": "german-continent",
   "metadata": {},
   "outputs": [],
   "source": [
    "def relu(X):\n",
    "    return np.maximum(np.zeros_like(X),X)"
   ]
  },
  {
   "cell_type": "code",
   "execution_count": 40,
   "id": "manual-homework",
   "metadata": {},
   "outputs": [],
   "source": [
    "def neuronal_network(X, activation_function):\n",
    "    H1_W = np.array([[0.712, 0.355, 0.268],\n",
    "                     [0.112, 0.855, 0.468]])\n",
    "\n",
    "    OL_W = np.array([[0.116], [0.329], [0.708]])\n",
    "\n",
    "    H1 = sigmoid(np.matmul(X,H1_W)) # funcion de activacion: convertir a valores en el intervalo de 0 a 1\n",
    "    OL = activation_function(np.matmul(H1,OL_W))  # funcion de activacion: convertir a valores en el intervalo de 0 a 1\n",
    "\n",
    "    return OL"
   ]
  },
  {
   "cell_type": "code",
   "execution_count": 41,
   "id": "silent-january",
   "metadata": {},
   "outputs": [
    {
     "data": {
      "text/plain": [
       "array([[0.69269553]])"
      ]
     },
     "execution_count": 41,
     "metadata": {},
     "output_type": "execute_result"
    }
   ],
   "source": [
    "X =  np.array([[1, 1]])\n",
    "neuronal_network(X, sigmoid)"
   ]
  },
  {
   "cell_type": "code",
   "execution_count": 42,
   "id": "superior-machine",
   "metadata": {},
   "outputs": [
    {
     "data": {
      "text/plain": [
       "array([[0.81275154]])"
      ]
     },
     "execution_count": 42,
     "metadata": {},
     "output_type": "execute_result"
    }
   ],
   "source": [
    "neuronal_network(X, relu)"
   ]
  },
  {
   "cell_type": "code",
   "execution_count": 44,
   "id": "ultimate-mapping",
   "metadata": {},
   "outputs": [],
   "source": [
    "X = np.array([\n",
    "    [0.1,2],\n",
    "    [0.3,0.45],\n",
    "    [5,9],\n",
    "    [12,6],\n",
    "    [7,5],\n",
    "    [0.3,0.8],\n",
    "    [12,5],\n",
    "    [100,200],\n",
    "    [7,8],\n",
    "    [300,1500]])"
   ]
  },
  {
   "cell_type": "code",
   "execution_count": 47,
   "id": "turkish-particular",
   "metadata": {},
   "outputs": [
    {
     "data": {
      "text/plain": [
       "array([[0.85897151],\n",
       "       [0.6748703 ],\n",
       "       [1.14904686],\n",
       "       [1.15125178],\n",
       "       [1.14187076],\n",
       "       [0.72619803],\n",
       "       [1.15019715],\n",
       "       [1.153     ],\n",
       "       [1.1500904 ],\n",
       "       [1.153     ]])"
      ]
     },
     "execution_count": 47,
     "metadata": {},
     "output_type": "execute_result"
    }
   ],
   "source": [
    "neuronal_network(X, relu)"
   ]
  }
 ],
 "metadata": {
  "kernelspec": {
   "display_name": "Python 3",
   "language": "python",
   "name": "python3"
  },
  "language_info": {
   "codemirror_mode": {
    "name": "ipython",
    "version": 3
   },
   "file_extension": ".py",
   "mimetype": "text/x-python",
   "name": "python",
   "nbconvert_exporter": "python",
   "pygments_lexer": "ipython3",
   "version": "3.9.1"
  }
 },
 "nbformat": 4,
 "nbformat_minor": 5
}
